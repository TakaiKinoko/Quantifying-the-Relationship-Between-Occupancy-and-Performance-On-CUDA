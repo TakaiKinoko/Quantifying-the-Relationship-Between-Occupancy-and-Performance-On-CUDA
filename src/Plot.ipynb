{
 "cells": [
  {
   "cell_type": "markdown",
   "metadata": {},
   "source": [
    "### define a normalizing function"
   ]
  },
  {
   "cell_type": "code",
   "execution_count": 43,
   "metadata": {},
   "outputs": [],
   "source": [
    "def normalize(df):\n",
    "    x = df.values.reshape(-1, 1) #returns a numpy array\n",
    "    min_max_scaler = preprocessing.MinMaxScaler()\n",
    "    x_scaled = min_max_scaler.fit_transform(x)\n",
    "    return pd.DataFrame(x_scaled).apply(lambda x: x*100)"
   ]
  },
  {
   "cell_type": "markdown",
   "metadata": {},
   "source": [
    "## nbody"
   ]
  },
  {
   "cell_type": "code",
   "execution_count": 44,
   "metadata": {
    "scrolled": true
   },
   "outputs": [
    {
     "data": {
      "text/html": [
       "<div>\n",
       "<style scoped>\n",
       "    .dataframe tbody tr th:only-of-type {\n",
       "        vertical-align: middle;\n",
       "    }\n",
       "\n",
       "    .dataframe tbody tr th {\n",
       "        vertical-align: top;\n",
       "    }\n",
       "\n",
       "    .dataframe thead th {\n",
       "        text-align: right;\n",
       "    }\n",
       "</style>\n",
       "<table border=\"1\" class=\"dataframe\">\n",
       "  <thead>\n",
       "    <tr style=\"text-align: right;\">\n",
       "      <th></th>\n",
       "      <th>occupancy</th>\n",
       "      <th>block_size</th>\n",
       "      <th>grid_size</th>\n",
       "      <th>threads</th>\n",
       "      <th>waves_per_SM</th>\n",
       "      <th>instructions</th>\n",
       "      <th>ipc</th>\n",
       "      <th>warp_cycles_per_instruction</th>\n",
       "      <th>active_warps_per_scheduler</th>\n",
       "      <th>no_eligible_warp</th>\n",
       "      <th>l1_hit</th>\n",
       "      <th>l2_hit</th>\n",
       "    </tr>\n",
       "  </thead>\n",
       "  <tbody>\n",
       "    <tr>\n",
       "      <th>0</th>\n",
       "      <td>6.25</td>\n",
       "      <td>32</td>\n",
       "      <td>272</td>\n",
       "      <td>8704</td>\n",
       "      <td>0.25</td>\n",
       "      <td>1378917872</td>\n",
       "      <td>0.12</td>\n",
       "      <td>16.44</td>\n",
       "      <td>1.00</td>\n",
       "      <td>93.92</td>\n",
       "      <td>99.89</td>\n",
       "      <td>95.06</td>\n",
       "    </tr>\n",
       "    <tr>\n",
       "      <th>1</th>\n",
       "      <td>12.50</td>\n",
       "      <td>64</td>\n",
       "      <td>272</td>\n",
       "      <td>17408</td>\n",
       "      <td>0.25</td>\n",
       "      <td>5485181920</td>\n",
       "      <td>0.24</td>\n",
       "      <td>16.43</td>\n",
       "      <td>1.14</td>\n",
       "      <td>93.05</td>\n",
       "      <td>99.95</td>\n",
       "      <td>97.47</td>\n",
       "    </tr>\n",
       "    <tr>\n",
       "      <th>2</th>\n",
       "      <td>24.86</td>\n",
       "      <td>128</td>\n",
       "      <td>272</td>\n",
       "      <td>34816</td>\n",
       "      <td>0.50</td>\n",
       "      <td>21879748544</td>\n",
       "      <td>0.46</td>\n",
       "      <td>16.62</td>\n",
       "      <td>1.99</td>\n",
       "      <td>88.03</td>\n",
       "      <td>99.23</td>\n",
       "      <td>98.60</td>\n",
       "    </tr>\n",
       "    <tr>\n",
       "      <th>3</th>\n",
       "      <td>49.37</td>\n",
       "      <td>256</td>\n",
       "      <td>272</td>\n",
       "      <td>69632</td>\n",
       "      <td>1.00</td>\n",
       "      <td>87397035904</td>\n",
       "      <td>0.75</td>\n",
       "      <td>19.45</td>\n",
       "      <td>3.95</td>\n",
       "      <td>76.69</td>\n",
       "      <td>82.90</td>\n",
       "      <td>99.02</td>\n",
       "    </tr>\n",
       "    <tr>\n",
       "      <th>4</th>\n",
       "      <td>98.97</td>\n",
       "      <td>512</td>\n",
       "      <td>272</td>\n",
       "      <td>139264</td>\n",
       "      <td>2.00</td>\n",
       "      <td>349344231040</td>\n",
       "      <td>0.52</td>\n",
       "      <td>55.50</td>\n",
       "      <td>7.93</td>\n",
       "      <td>85.72</td>\n",
       "      <td>58.36</td>\n",
       "      <td>91.83</td>\n",
       "    </tr>\n",
       "  </tbody>\n",
       "</table>\n",
       "</div>"
      ],
      "text/plain": [
       "   occupancy  block_size  grid_size  threads  waves_per_SM  instructions  \\\n",
       "0       6.25          32        272     8704          0.25    1378917872   \n",
       "1      12.50          64        272    17408          0.25    5485181920   \n",
       "2      24.86         128        272    34816          0.50   21879748544   \n",
       "3      49.37         256        272    69632          1.00   87397035904   \n",
       "4      98.97         512        272   139264          2.00  349344231040   \n",
       "\n",
       "    ipc  warp_cycles_per_instruction  active_warps_per_scheduler  \\\n",
       "0  0.12                        16.44                        1.00   \n",
       "1  0.24                        16.43                        1.14   \n",
       "2  0.46                        16.62                        1.99   \n",
       "3  0.75                        19.45                        3.95   \n",
       "4  0.52                        55.50                        7.93   \n",
       "\n",
       "   no_eligible_warp  l1_hit  l2_hit  \n",
       "0             93.92   99.89   95.06  \n",
       "1             93.05   99.95   97.47  \n",
       "2             88.03   99.23   98.60  \n",
       "3             76.69   82.90   99.02  \n",
       "4             85.72   58.36   91.83  "
      ]
     },
     "execution_count": 44,
     "metadata": {},
     "output_type": "execute_result"
    }
   ],
   "source": [
    "%matplotlib inline\n",
    "import pandas as pd\n",
    "import matplotlib.pyplot as plt\n",
    "from sklearn import preprocessing\n",
    "\n",
    "nbody = pd.read_csv('nbody.csv')\n",
    "nbody"
   ]
  },
  {
   "cell_type": "code",
   "execution_count": 46,
   "metadata": {},
   "outputs": [
    {
     "data": {
      "image/png": "[encoded data removed]",
      "text/plain": [
       "<Figure size 432x288 with 2 Axes>"
      ]
     },
     "metadata": {
      "needs_background": "light"
     },
     "output_type": "display_data"
    }
   ],
   "source": [
    "# colorbar: instruction per cycle - performance metric\n",
    "# size: occupancy\n",
    "# x-axis: L1 hit\n",
    "# y-axis: L2 hit\n",
    "\n",
    "plt.scatter(nbody['l1_hit'], nbody['l2_hit'], c=nbody['ipc'], s=nbody['occupancy'], alpha=1,\n",
    "            cmap='viridis')\n",
    "plt.colorbar();  "
   ]
  },
  {
   "cell_type": "markdown",
   "metadata": {},
   "source": [
    "## Monte Carlo"
   ]
  },
  {
   "cell_type": "code",
   "execution_count": 47,
   "metadata": {},
   "outputs": [
    {
     "data": {
      "text/html": [
       "<div>\n",
       "<style scoped>\n",
       "    .dataframe tbody tr th:only-of-type {\n",
       "        vertical-align: middle;\n",
       "    }\n",
       "\n",
       "    .dataframe tbody tr th {\n",
       "        vertical-align: top;\n",
       "    }\n",
       "\n",
       "    .dataframe thead th {\n",
       "        text-align: right;\n",
       "    }\n",
       "</style>\n",
       "<table border=\"1\" class=\"dataframe\">\n",
       "  <thead>\n",
       "    <tr style=\"text-align: right;\">\n",
       "      <th></th>\n",
       "      <th>occupancy</th>\n",
       "      <th>block_size</th>\n",
       "      <th>grid_size</th>\n",
       "      <th>threads</th>\n",
       "      <th>waves_per_SM</th>\n",
       "      <th>instructions</th>\n",
       "      <th>ipc</th>\n",
       "      <th>warp_cycles_per_instruction</th>\n",
       "      <th>active_warps_per_scheduler</th>\n",
       "      <th>no_eligible_warp</th>\n",
       "      <th>l1_hit</th>\n",
       "      <th>l2_hit</th>\n",
       "    </tr>\n",
       "  </thead>\n",
       "  <tbody>\n",
       "    <tr>\n",
       "      <th>0</th>\n",
       "      <td>37.13</td>\n",
       "      <td>512</td>\n",
       "      <td>2720</td>\n",
       "      <td>1392640</td>\n",
       "      <td>40.0</td>\n",
       "      <td>19529034824</td>\n",
       "      <td>0.75</td>\n",
       "      <td>15.67</td>\n",
       "      <td>3.41</td>\n",
       "      <td>78.26</td>\n",
       "      <td>99.72</td>\n",
       "      <td>96.55</td>\n",
       "    </tr>\n",
       "    <tr>\n",
       "      <th>1</th>\n",
       "      <td>38.27</td>\n",
       "      <td>256</td>\n",
       "      <td>2720</td>\n",
       "      <td>696320</td>\n",
       "      <td>20.0</td>\n",
       "      <td>9193182772</td>\n",
       "      <td>0.78</td>\n",
       "      <td>15.61</td>\n",
       "      <td>3.20</td>\n",
       "      <td>79.51</td>\n",
       "      <td>99.74</td>\n",
       "      <td>96.74</td>\n",
       "    </tr>\n",
       "    <tr>\n",
       "      <th>2</th>\n",
       "      <td>41.27</td>\n",
       "      <td>128</td>\n",
       "      <td>2720</td>\n",
       "      <td>348160</td>\n",
       "      <td>10.0</td>\n",
       "      <td>4025909546</td>\n",
       "      <td>0.84</td>\n",
       "      <td>15.58</td>\n",
       "      <td>3.32</td>\n",
       "      <td>78.72</td>\n",
       "      <td>99.67</td>\n",
       "      <td>96.75</td>\n",
       "    </tr>\n",
       "    <tr>\n",
       "      <th>3</th>\n",
       "      <td>43.15</td>\n",
       "      <td>64</td>\n",
       "      <td>2720</td>\n",
       "      <td>174080</td>\n",
       "      <td>5.0</td>\n",
       "      <td>1870167013</td>\n",
       "      <td>0.88</td>\n",
       "      <td>15.56</td>\n",
       "      <td>3.47</td>\n",
       "      <td>77.69</td>\n",
       "      <td>99.66</td>\n",
       "      <td>97.10</td>\n",
       "    </tr>\n",
       "    <tr>\n",
       "      <th>4</th>\n",
       "      <td>42.45</td>\n",
       "      <td>32</td>\n",
       "      <td>2720</td>\n",
       "      <td>87040</td>\n",
       "      <td>2.5</td>\n",
       "      <td>792461252</td>\n",
       "      <td>0.85</td>\n",
       "      <td>15.56</td>\n",
       "      <td>3.41</td>\n",
       "      <td>78.06</td>\n",
       "      <td>99.55</td>\n",
       "      <td>97.00</td>\n",
       "    </tr>\n",
       "  </tbody>\n",
       "</table>\n",
       "</div>"
      ],
      "text/plain": [
       "   occupancy  block_size  grid_size  threads  waves_per_SM  instructions  \\\n",
       "0      37.13         512       2720  1392640          40.0   19529034824   \n",
       "1      38.27         256       2720   696320          20.0    9193182772   \n",
       "2      41.27         128       2720   348160          10.0    4025909546   \n",
       "3      43.15          64       2720   174080           5.0    1870167013   \n",
       "4      42.45          32       2720    87040           2.5     792461252   \n",
       "\n",
       "    ipc  warp_cycles_per_instruction  active_warps_per_scheduler  \\\n",
       "0  0.75                        15.67                        3.41   \n",
       "1  0.78                        15.61                        3.20   \n",
       "2  0.84                        15.58                        3.32   \n",
       "3  0.88                        15.56                        3.47   \n",
       "4  0.85                        15.56                        3.41   \n",
       "\n",
       "   no_eligible_warp  l1_hit  l2_hit  \n",
       "0             78.26   99.72   96.55  \n",
       "1             79.51   99.74   96.74  \n",
       "2             78.72   99.67   96.75  \n",
       "3             77.69   99.66   97.10  \n",
       "4             78.06   99.55   97.00  "
      ]
     },
     "execution_count": 47,
     "metadata": {},
     "output_type": "execute_result"
    }
   ],
   "source": [
    "mc = pd.read_csv('monteCarlo.csv')\n",
    "mc"
   ]
  },
  {
   "cell_type": "code",
   "execution_count": 52,
   "metadata": {},
   "outputs": [
    {
     "data": {
      "image/png": "[encoded data removed]",
      "text/plain": [
       "<Figure size 432x288 with 2 Axes>"
      ]
     },
     "metadata": {
      "needs_background": "light"
     },
     "output_type": "display_data"
    }
   ],
   "source": [
    "# colorbar: instruction per cycle - performance metric\n",
    "# size: occupancy\n",
    "# x-axis: L1 hit\n",
    "# y-axis: L2 hit\n",
    "\n",
    "occ = normalize(mc['occupancy'])\n",
    "\n",
    "plt.scatter(mc['l1_hit'], mc['l2_hit'], c=mc['ipc'], s=occ, alpha=1,\n",
    "            cmap='viridis')\n",
    "\n",
    "plt.colorbar();  "
   ]
  },
  {
   "cell_type": "markdown",
   "metadata": {},
   "source": [
    "## Jacobi"
   ]
  },
  {
   "cell_type": "code",
   "execution_count": 56,
   "metadata": {},
   "outputs": [
    {
     "data": {
      "text/html": [
       "<div>\n",
       "<style scoped>\n",
       "    .dataframe tbody tr th:only-of-type {\n",
       "        vertical-align: middle;\n",
       "    }\n",
       "\n",
       "    .dataframe tbody tr th {\n",
       "        vertical-align: top;\n",
       "    }\n",
       "\n",
       "    .dataframe thead th {\n",
       "        text-align: right;\n",
       "    }\n",
       "</style>\n",
       "<table border=\"1\" class=\"dataframe\">\n",
       "  <thead>\n",
       "    <tr style=\"text-align: right;\">\n",
       "      <th></th>\n",
       "      <th>occupancy</th>\n",
       "      <th>block_size</th>\n",
       "      <th>waves_per_SM</th>\n",
       "      <th>ipc</th>\n",
       "      <th>warp_cycles_per_instruction</th>\n",
       "      <th>no_eligible_warp</th>\n",
       "      <th>l1_hit</th>\n",
       "      <th>l2_hit</th>\n",
       "    </tr>\n",
       "  </thead>\n",
       "  <tbody>\n",
       "    <tr>\n",
       "      <th>0</th>\n",
       "      <td>97.25</td>\n",
       "      <td>1024</td>\n",
       "      <td>0.97</td>\n",
       "      <td>0.44</td>\n",
       "      <td>60.21</td>\n",
       "      <td>86.96</td>\n",
       "      <td>63.82</td>\n",
       "      <td>92.97</td>\n",
       "    </tr>\n",
       "    <tr>\n",
       "      <th>1</th>\n",
       "      <td>46.44</td>\n",
       "      <td>512</td>\n",
       "      <td>0.49</td>\n",
       "      <td>0.63</td>\n",
       "      <td>20.72</td>\n",
       "      <td>81.08</td>\n",
       "      <td>84.60</td>\n",
       "      <td>98.54</td>\n",
       "    </tr>\n",
       "    <tr>\n",
       "      <th>2</th>\n",
       "      <td>23.13</td>\n",
       "      <td>256</td>\n",
       "      <td>0.24</td>\n",
       "      <td>0.38</td>\n",
       "      <td>17.37</td>\n",
       "      <td>88.64</td>\n",
       "      <td>97.45</td>\n",
       "      <td>98.98</td>\n",
       "    </tr>\n",
       "    <tr>\n",
       "      <th>3</th>\n",
       "      <td>11.76</td>\n",
       "      <td>128</td>\n",
       "      <td>0.12</td>\n",
       "      <td>0.20</td>\n",
       "      <td>17.45</td>\n",
       "      <td>94.26</td>\n",
       "      <td>96.40</td>\n",
       "      <td>96.54</td>\n",
       "    </tr>\n",
       "    <tr>\n",
       "      <th>4</th>\n",
       "      <td>6.04</td>\n",
       "      <td>64</td>\n",
       "      <td>0.06</td>\n",
       "      <td>0.10</td>\n",
       "      <td>17.68</td>\n",
       "      <td>94.34</td>\n",
       "      <td>95.64</td>\n",
       "      <td>84.86</td>\n",
       "    </tr>\n",
       "    <tr>\n",
       "      <th>5</th>\n",
       "      <td>3.12</td>\n",
       "      <td>32</td>\n",
       "      <td>0.06</td>\n",
       "      <td>0.05</td>\n",
       "      <td>18.02</td>\n",
       "      <td>94.45</td>\n",
       "      <td>93.65</td>\n",
       "      <td>69.29</td>\n",
       "    </tr>\n",
       "  </tbody>\n",
       "</table>\n",
       "</div>"
      ],
      "text/plain": [
       "   occupancy  block_size  waves_per_SM   ipc  warp_cycles_per_instruction  \\\n",
       "0      97.25        1024          0.97  0.44                        60.21   \n",
       "1      46.44         512          0.49  0.63                        20.72   \n",
       "2      23.13         256          0.24  0.38                        17.37   \n",
       "3      11.76         128          0.12  0.20                        17.45   \n",
       "4       6.04          64          0.06  0.10                        17.68   \n",
       "5       3.12          32          0.06  0.05                        18.02   \n",
       "\n",
       "   no_eligible_warp  l1_hit  l2_hit  \n",
       "0             86.96   63.82   92.97  \n",
       "1             81.08   84.60   98.54  \n",
       "2             88.64   97.45   98.98  \n",
       "3             94.26   96.40   96.54  \n",
       "4             94.34   95.64   84.86  \n",
       "5             94.45   93.65   69.29  "
      ]
     },
     "execution_count": 56,
     "metadata": {},
     "output_type": "execute_result"
    }
   ],
   "source": [
    "jacobi = pd.read_csv('jacobi.csv')\n",
    "jacobi"
   ]
  },
  {
   "cell_type": "code",
   "execution_count": 57,
   "metadata": {},
   "outputs": [
    {
     "data": {
      "image/png": "[encoded data removed]",
      "text/plain": [
       "<Figure size 432x288 with 2 Axes>"
      ]
     },
     "metadata": {
      "needs_background": "light"
     },
     "output_type": "display_data"
    }
   ],
   "source": [
    "# colorbar: instruction per cycle - performance metric\n",
    "# size: occupancy\n",
    "# x-axis: L1 hit\n",
    "# y-axis: L2 hit\n",
    "\n",
    "plt.scatter(jacobi['l1_hit'], jacobi['l2_hit'], c=jacobi['ipc'], s=jacobi['occupancy'], alpha=1,\n",
    "            cmap='viridis')\n",
    "plt.colorbar();  "
   ]
  },
  {
   "cell_type": "markdown",
   "metadata": {},
   "source": [
    "## bar + line plot "
   ]
  },
  {
   "cell_type": "code",
   "execution_count": 113,
   "metadata": {},
   "outputs": [],
   "source": [
    "import numpy as np\n",
    "import matplotlib\n",
    "import matplotlib.pyplot as plt \n",
    "\n",
    "def plot(labels, df, l1):\n",
    "    x = np.arange(len(labels))                                             \n",
    "\n",
    "    width = 0.20        \n",
    "    fig, ax = plt.subplots()   \n",
    "\n",
    "    def autolabel(rects): \n",
    "         \"\"\"Attach a text label above each bar in *rects*, displaying its h\n",
    "     eight.\"\"\" \n",
    "         for rect in rects: \n",
    "             height = rect.get_height() \n",
    "             ax.annotate('{}'.format(height), \n",
    "                         xy=(rect.get_x() + rect.get_width() / 2, height), \n",
    "                         xytext=(0, 3),  # 3 points vertical offset \n",
    "                         textcoords=\"offset points\", \n",
    "                         color='r',\n",
    "                         ha='center', va='bottom') \n",
    "\n",
    "    rects1 = ax.bar(labels, df['occupancy'], color='r', label='occupancy', width=0.4)\n",
    "    ax.plot(labels, df['l2_hit'], color='g', label='L2 hit')\n",
    "    ax.legend()\n",
    "    ax.set_ylabel('Occupancy & L2-hit rate')   \n",
    "    ax2 = ax.twinx() \n",
    "    ax2.set_ylabel('IPC', color='b') \n",
    "    ax2.plot(labels, df['ipc'], color='b', label='IPC')      \n",
    "    if l1: \n",
    "        ax2.plot(labels, df['l1_hit'], color='y', label='L1 hit')\n",
    "    ax.set_title('Occupancy')    \n",
    "    ax2.tick_params(axis='y', labelcolor='b') \n",
    "    plt.grid(color='g', linestyle='--', linewidth=0.5) \n",
    "    ax2.legend(loc='upper center') # relocate legend box \n",
    "    autolabel(rects1) \n",
    "    plt.show()"
   ]
  },
  {
   "cell_type": "markdown",
   "metadata": {},
   "source": [
    "## Binomial Options"
   ]
  },
  {
   "cell_type": "code",
   "execution_count": 95,
   "metadata": {},
   "outputs": [
    {
     "data": {
      "text/html": [
       "<div>\n",
       "<style scoped>\n",
       "    .dataframe tbody tr th:only-of-type {\n",
       "        vertical-align: middle;\n",
       "    }\n",
       "\n",
       "    .dataframe tbody tr th {\n",
       "        vertical-align: top;\n",
       "    }\n",
       "\n",
       "    .dataframe thead th {\n",
       "        text-align: right;\n",
       "    }\n",
       "</style>\n",
       "<table border=\"1\" class=\"dataframe\">\n",
       "  <thead>\n",
       "    <tr style=\"text-align: right;\">\n",
       "      <th></th>\n",
       "      <th>occupancy</th>\n",
       "      <th>block_size</th>\n",
       "      <th>waves_per_SM</th>\n",
       "      <th>ipc</th>\n",
       "      <th>warp_cycles_per_instruction</th>\n",
       "      <th>no_eligible_warp</th>\n",
       "      <th>l1_hit</th>\n",
       "      <th>l2_hit</th>\n",
       "    </tr>\n",
       "  </thead>\n",
       "  <tbody>\n",
       "    <tr>\n",
       "      <th>0</th>\n",
       "      <td>6.25</td>\n",
       "      <td>32</td>\n",
       "      <td>1.6</td>\n",
       "      <td>0.19</td>\n",
       "      <td>20.33</td>\n",
       "      <td>95.09</td>\n",
       "      <td>0</td>\n",
       "      <td>95.46</td>\n",
       "    </tr>\n",
       "    <tr>\n",
       "      <th>1</th>\n",
       "      <td>12.49</td>\n",
       "      <td>64</td>\n",
       "      <td>1.6</td>\n",
       "      <td>0.30</td>\n",
       "      <td>26.39</td>\n",
       "      <td>92.42</td>\n",
       "      <td>0</td>\n",
       "      <td>97.56</td>\n",
       "    </tr>\n",
       "    <tr>\n",
       "      <th>2</th>\n",
       "      <td>24.98</td>\n",
       "      <td>128</td>\n",
       "      <td>3.2</td>\n",
       "      <td>0.52</td>\n",
       "      <td>29.89</td>\n",
       "      <td>86.68</td>\n",
       "      <td>0</td>\n",
       "      <td>98.91</td>\n",
       "    </tr>\n",
       "    <tr>\n",
       "      <th>3</th>\n",
       "      <td>49.95</td>\n",
       "      <td>256</td>\n",
       "      <td>6.4</td>\n",
       "      <td>0.99</td>\n",
       "      <td>31.45</td>\n",
       "      <td>75.07</td>\n",
       "      <td>0</td>\n",
       "      <td>99.23</td>\n",
       "    </tr>\n",
       "    <tr>\n",
       "      <th>4</th>\n",
       "      <td>98.59</td>\n",
       "      <td>512</td>\n",
       "      <td>12.8</td>\n",
       "      <td>1.37</td>\n",
       "      <td>45.27</td>\n",
       "      <td>65.17</td>\n",
       "      <td>0</td>\n",
       "      <td>97.18</td>\n",
       "    </tr>\n",
       "    <tr>\n",
       "      <th>5</th>\n",
       "      <td>99.64</td>\n",
       "      <td>1024</td>\n",
       "      <td>25.6</td>\n",
       "      <td>1.38</td>\n",
       "      <td>45.29</td>\n",
       "      <td>64.84</td>\n",
       "      <td>0</td>\n",
       "      <td>98.81</td>\n",
       "    </tr>\n",
       "  </tbody>\n",
       "</table>\n",
       "</div>"
      ],
      "text/plain": [
       "   occupancy  block_size  waves_per_SM   ipc  warp_cycles_per_instruction  \\\n",
       "0       6.25          32           1.6  0.19                        20.33   \n",
       "1      12.49          64           1.6  0.30                        26.39   \n",
       "2      24.98         128           3.2  0.52                        29.89   \n",
       "3      49.95         256           6.4  0.99                        31.45   \n",
       "4      98.59         512          12.8  1.37                        45.27   \n",
       "5      99.64        1024          25.6  1.38                        45.29   \n",
       "\n",
       "   no_eligible_warp  l1_hit  l2_hit  \n",
       "0             95.09       0   95.46  \n",
       "1             92.42       0   97.56  \n",
       "2             86.68       0   98.91  \n",
       "3             75.07       0   99.23  \n",
       "4             65.17       0   97.18  \n",
       "5             64.84       0   98.81  "
      ]
     },
     "execution_count": 95,
     "metadata": {},
     "output_type": "execute_result"
    }
   ],
   "source": [
    "bo = pd.read_csv('binomial.csv')\n",
    "bo"
   ]
  },
  {
   "cell_type": "code",
   "execution_count": 110,
   "metadata": {},
   "outputs": [
    {
     "data": {
      "image/png": "[encoded data removed]",
      "text/plain": [
       "<Figure size 432x288 with 2 Axes>"
      ]
     },
     "metadata": {
      "needs_background": "light"
     },
     "output_type": "display_data"
    }
   ],
   "source": [
    "labels = ['32', '64', '128(benchmark)', '256', '512', '1024']\n",
    "\n",
    "plot(labels, bo, False)"
   ]
  },
  {
   "cell_type": "markdown",
   "metadata": {},
   "source": [
    "## Black Scholes"
   ]
  },
  {
   "cell_type": "code",
   "execution_count": 97,
   "metadata": {},
   "outputs": [
    {
     "data": {
      "text/html": [
       "<div>\n",
       "<style scoped>\n",
       "    .dataframe tbody tr th:only-of-type {\n",
       "        vertical-align: middle;\n",
       "    }\n",
       "\n",
       "    .dataframe tbody tr th {\n",
       "        vertical-align: top;\n",
       "    }\n",
       "\n",
       "    .dataframe thead th {\n",
       "        text-align: right;\n",
       "    }\n",
       "</style>\n",
       "<table border=\"1\" class=\"dataframe\">\n",
       "  <thead>\n",
       "    <tr style=\"text-align: right;\">\n",
       "      <th></th>\n",
       "      <th>occupancy</th>\n",
       "      <th>block_size</th>\n",
       "      <th>waves_per_SM</th>\n",
       "      <th>ipc</th>\n",
       "      <th>warp_cycles_per_instruction</th>\n",
       "      <th>no_eligible_warp</th>\n",
       "      <th>l1_hit</th>\n",
       "      <th>l2_hit</th>\n",
       "    </tr>\n",
       "  </thead>\n",
       "  <tbody>\n",
       "    <tr>\n",
       "      <th>0</th>\n",
       "      <td>49.73</td>\n",
       "      <td>32</td>\n",
       "      <td>97.66</td>\n",
       "      <td>0.73</td>\n",
       "      <td>43.38</td>\n",
       "      <td>81.44</td>\n",
       "      <td>0</td>\n",
       "      <td>77.36</td>\n",
       "    </tr>\n",
       "    <tr>\n",
       "      <th>1</th>\n",
       "      <td>95.78</td>\n",
       "      <td>64</td>\n",
       "      <td>48.83</td>\n",
       "      <td>0.80</td>\n",
       "      <td>77.86</td>\n",
       "      <td>79.42</td>\n",
       "      <td>0</td>\n",
       "      <td>69.57</td>\n",
       "    </tr>\n",
       "    <tr>\n",
       "      <th>2</th>\n",
       "      <td>95.22</td>\n",
       "      <td>128</td>\n",
       "      <td>48.83</td>\n",
       "      <td>0.82</td>\n",
       "      <td>73.49</td>\n",
       "      <td>79.54</td>\n",
       "      <td>0</td>\n",
       "      <td>69.52</td>\n",
       "    </tr>\n",
       "    <tr>\n",
       "      <th>3</th>\n",
       "      <td>93.93</td>\n",
       "      <td>256</td>\n",
       "      <td>48.83</td>\n",
       "      <td>0.79</td>\n",
       "      <td>75.29</td>\n",
       "      <td>80.18</td>\n",
       "      <td>0</td>\n",
       "      <td>69.89</td>\n",
       "    </tr>\n",
       "    <tr>\n",
       "      <th>4</th>\n",
       "      <td>93.52</td>\n",
       "      <td>512</td>\n",
       "      <td>48.84</td>\n",
       "      <td>0.79</td>\n",
       "      <td>75.53</td>\n",
       "      <td>79.91</td>\n",
       "      <td>0</td>\n",
       "      <td>70.32</td>\n",
       "    </tr>\n",
       "    <tr>\n",
       "      <th>5</th>\n",
       "      <td>91.26</td>\n",
       "      <td>1024</td>\n",
       "      <td>48.85</td>\n",
       "      <td>0.78</td>\n",
       "      <td>76.46</td>\n",
       "      <td>79.24</td>\n",
       "      <td>0</td>\n",
       "      <td>70.61</td>\n",
       "    </tr>\n",
       "  </tbody>\n",
       "</table>\n",
       "</div>"
      ],
      "text/plain": [
       "   occupancy  block_size  waves_per_SM   ipc  warp_cycles_per_instruction  \\\n",
       "0      49.73          32         97.66  0.73                        43.38   \n",
       "1      95.78          64         48.83  0.80                        77.86   \n",
       "2      95.22         128         48.83  0.82                        73.49   \n",
       "3      93.93         256         48.83  0.79                        75.29   \n",
       "4      93.52         512         48.84  0.79                        75.53   \n",
       "5      91.26        1024         48.85  0.78                        76.46   \n",
       "\n",
       "   no_eligible_warp  l1_hit  l2_hit  \n",
       "0             81.44       0   77.36  \n",
       "1             79.42       0   69.57  \n",
       "2             79.54       0   69.52  \n",
       "3             80.18       0   69.89  \n",
       "4             79.91       0   70.32  \n",
       "5             79.24       0   70.61  "
      ]
     },
     "execution_count": 97,
     "metadata": {},
     "output_type": "execute_result"
    }
   ],
   "source": [
    "bs = pd.read_csv('blackScholes.csv')\n",
    "bs"
   ]
  },
  {
   "cell_type": "code",
   "execution_count": 111,
   "metadata": {},
   "outputs": [
    {
     "data": {
      "image/png": "[encoded data removed]",
      "text/plain": [
       "<Figure size 432x288 with 2 Axes>"
      ]
     },
     "metadata": {
      "needs_background": "light"
     },
     "output_type": "display_data"
    }
   ],
   "source": [
    "labels = ['32', '64', '128(benchmark)', '256', '512', '1024']\n",
    "\n",
    "plot(labels, bs, False)"
   ]
  },
  {
   "cell_type": "markdown",
   "metadata": {},
   "source": [
    "## quasirand"
   ]
  },
  {
   "cell_type": "code",
   "execution_count": 100,
   "metadata": {},
   "outputs": [
    {
     "data": {
      "text/html": [
       "<div>\n",
       "<style scoped>\n",
       "    .dataframe tbody tr th:only-of-type {\n",
       "        vertical-align: middle;\n",
       "    }\n",
       "\n",
       "    .dataframe tbody tr th {\n",
       "        vertical-align: top;\n",
       "    }\n",
       "\n",
       "    .dataframe thead th {\n",
       "        text-align: right;\n",
       "    }\n",
       "</style>\n",
       "<table border=\"1\" class=\"dataframe\">\n",
       "  <thead>\n",
       "    <tr style=\"text-align: right;\">\n",
       "      <th></th>\n",
       "      <th>occupancy</th>\n",
       "      <th>block_size</th>\n",
       "      <th>waves_per_SM</th>\n",
       "      <th>ipc</th>\n",
       "      <th>warp_cycles_per_instruction</th>\n",
       "      <th>no_eligible_warp</th>\n",
       "      <th>l1_hit</th>\n",
       "      <th>l2_hit</th>\n",
       "    </tr>\n",
       "  </thead>\n",
       "  <tbody>\n",
       "    <tr>\n",
       "      <th>0</th>\n",
       "      <td>28.77</td>\n",
       "      <td>96</td>\n",
       "      <td>0.30</td>\n",
       "      <td>1.02</td>\n",
       "      <td>17.23</td>\n",
       "      <td>73.13</td>\n",
       "      <td>0</td>\n",
       "      <td>96.31</td>\n",
       "    </tr>\n",
       "    <tr>\n",
       "      <th>1</th>\n",
       "      <td>55.18</td>\n",
       "      <td>192</td>\n",
       "      <td>0.64</td>\n",
       "      <td>1.24</td>\n",
       "      <td>24.43</td>\n",
       "      <td>63.01</td>\n",
       "      <td>0</td>\n",
       "      <td>93.95</td>\n",
       "    </tr>\n",
       "    <tr>\n",
       "      <th>2</th>\n",
       "      <td>75.65</td>\n",
       "      <td>384</td>\n",
       "      <td>1.28</td>\n",
       "      <td>1.22</td>\n",
       "      <td>33.60</td>\n",
       "      <td>64.47</td>\n",
       "      <td>0</td>\n",
       "      <td>91.20</td>\n",
       "    </tr>\n",
       "    <tr>\n",
       "      <th>3</th>\n",
       "      <td>68.06</td>\n",
       "      <td>768</td>\n",
       "      <td>3.20</td>\n",
       "      <td>1.34</td>\n",
       "      <td>28.99</td>\n",
       "      <td>62.70</td>\n",
       "      <td>0</td>\n",
       "      <td>94.97</td>\n",
       "    </tr>\n",
       "    <tr>\n",
       "      <th>4</th>\n",
       "      <td>75.25</td>\n",
       "      <td>960</td>\n",
       "      <td>1.60</td>\n",
       "      <td>1.18</td>\n",
       "      <td>32.55</td>\n",
       "      <td>62.08</td>\n",
       "      <td>0</td>\n",
       "      <td>89.96</td>\n",
       "    </tr>\n",
       "  </tbody>\n",
       "</table>\n",
       "</div>"
      ],
      "text/plain": [
       "   occupancy  block_size  waves_per_SM   ipc  warp_cycles_per_instruction  \\\n",
       "0      28.77          96          0.30  1.02                        17.23   \n",
       "1      55.18         192          0.64  1.24                        24.43   \n",
       "2      75.65         384          1.28  1.22                        33.60   \n",
       "3      68.06         768          3.20  1.34                        28.99   \n",
       "4      75.25         960          1.60  1.18                        32.55   \n",
       "\n",
       "   no_eligible_warp  l1_hit  l2_hit  \n",
       "0             73.13       0   96.31  \n",
       "1             63.01       0   93.95  \n",
       "2             64.47       0   91.20  \n",
       "3             62.70       0   94.97  \n",
       "4             62.08       0   89.96  "
      ]
     },
     "execution_count": 100,
     "metadata": {},
     "output_type": "execute_result"
    }
   ],
   "source": [
    "qr = pd.read_csv('quasirand.csv')\n",
    "qr"
   ]
  },
  {
   "cell_type": "code",
   "execution_count": 103,
   "metadata": {},
   "outputs": [
    {
     "data": {
      "image/png": "[encoded data removed]",
      "text/plain": [
       "<Figure size 432x288 with 2 Axes>"
      ]
     },
     "metadata": {
      "needs_background": "light"
     },
     "output_type": "display_data"
    }
   ],
   "source": [
    "labels = ['96', '192', '384(benchmark)', '768', '960']\n",
    "plot(labels, qr, False)"
   ]
  },
  {
   "cell_type": "markdown",
   "metadata": {},
   "source": [
    "## fast walsh tranformation"
   ]
  },
  {
   "cell_type": "code",
   "execution_count": 102,
   "metadata": {},
   "outputs": [
    {
     "data": {
      "text/html": [
       "<div>\n",
       "<style scoped>\n",
       "    .dataframe tbody tr th:only-of-type {\n",
       "        vertical-align: middle;\n",
       "    }\n",
       "\n",
       "    .dataframe tbody tr th {\n",
       "        vertical-align: top;\n",
       "    }\n",
       "\n",
       "    .dataframe thead th {\n",
       "        text-align: right;\n",
       "    }\n",
       "</style>\n",
       "<table border=\"1\" class=\"dataframe\">\n",
       "  <thead>\n",
       "    <tr style=\"text-align: right;\">\n",
       "      <th></th>\n",
       "      <th>occupancy</th>\n",
       "      <th>block_size</th>\n",
       "      <th>waves_per_SM</th>\n",
       "      <th>ipc</th>\n",
       "      <th>warp_cycles_per_instruction</th>\n",
       "      <th>no_eligible_warp</th>\n",
       "      <th>l1_hit</th>\n",
       "      <th>l2_hit</th>\n",
       "    </tr>\n",
       "  </thead>\n",
       "  <tbody>\n",
       "    <tr>\n",
       "      <th>0</th>\n",
       "      <td>78.55</td>\n",
       "      <td>128</td>\n",
       "      <td>51.20</td>\n",
       "      <td>1.18</td>\n",
       "      <td>42.22</td>\n",
       "      <td>70.38</td>\n",
       "      <td>0</td>\n",
       "      <td>49.64</td>\n",
       "    </tr>\n",
       "    <tr>\n",
       "      <th>1</th>\n",
       "      <td>80.61</td>\n",
       "      <td>256</td>\n",
       "      <td>51.20</td>\n",
       "      <td>1.18</td>\n",
       "      <td>43.48</td>\n",
       "      <td>70.49</td>\n",
       "      <td>0</td>\n",
       "      <td>50.05</td>\n",
       "    </tr>\n",
       "    <tr>\n",
       "      <th>2</th>\n",
       "      <td>81.09</td>\n",
       "      <td>512</td>\n",
       "      <td>45.08</td>\n",
       "      <td>1.14</td>\n",
       "      <td>45.08</td>\n",
       "      <td>71.18</td>\n",
       "      <td>0</td>\n",
       "      <td>50.06</td>\n",
       "    </tr>\n",
       "    <tr>\n",
       "      <th>3</th>\n",
       "      <td>76.35</td>\n",
       "      <td>1024</td>\n",
       "      <td>51.20</td>\n",
       "      <td>0.98</td>\n",
       "      <td>49.46</td>\n",
       "      <td>74.90</td>\n",
       "      <td>0</td>\n",
       "      <td>50.07</td>\n",
       "    </tr>\n",
       "  </tbody>\n",
       "</table>\n",
       "</div>"
      ],
      "text/plain": [
       "   occupancy  block_size  waves_per_SM   ipc  warp_cycles_per_instruction  \\\n",
       "0      78.55         128         51.20  1.18                        42.22   \n",
       "1      80.61         256         51.20  1.18                        43.48   \n",
       "2      81.09         512         45.08  1.14                        45.08   \n",
       "3      76.35        1024         51.20  0.98                        49.46   \n",
       "\n",
       "   no_eligible_warp  l1_hit  l2_hit  \n",
       "0             70.38       0   49.64  \n",
       "1             70.49       0   50.05  \n",
       "2             71.18       0   50.06  \n",
       "3             74.90       0   50.07  "
      ]
     },
     "execution_count": 102,
     "metadata": {},
     "output_type": "execute_result"
    }
   ],
   "source": [
    "fwt = pd.read_csv('fastWalsh.csv')\n",
    "fwt"
   ]
  },
  {
   "cell_type": "code",
   "execution_count": 106,
   "metadata": {},
   "outputs": [
    {
     "data": {
      "image/png": "[encoded data removed]",
      "text/plain": [
       "<Figure size 432x288 with 2 Axes>"
      ]
     },
     "metadata": {
      "needs_background": "light"
     },
     "output_type": "display_data"
    }
   ],
   "source": [
    "labels = ['128', '256(benchmark)', '512', '1024']\n",
    "\n",
    "plot(labels, fwt, False)"
   ]
  },
  {
   "cell_type": "markdown",
   "metadata": {},
   "source": [
    "## Monte Carlo Line + Bar"
   ]
  },
  {
   "cell_type": "code",
   "execution_count": 114,
   "metadata": {},
   "outputs": [
    {
     "data": {
      "image/png": "[encoded data removed]",
      "text/plain": [
       "<Figure size 432x288 with 2 Axes>"
      ]
     },
     "metadata": {
      "needs_background": "light"
     },
     "output_type": "display_data"
    }
   ],
   "source": [
    "labels = ['32', '64', '128', '256(benchmark)', '512']\n",
    "plot(labels, mc, True)"
   ]
  },
  {
   "cell_type": "markdown",
   "metadata": {},
   "source": [
    "## nbody Line + Bar"
   ]
  },
  {
   "cell_type": "code",
   "execution_count": 117,
   "metadata": {},
   "outputs": [
    {
     "data": {
      "image/png": "[encoded data removed]",
      "text/plain": [
       "<Figure size 432x288 with 2 Axes>"
      ]
     },
     "metadata": {
      "needs_background": "light"
     },
     "output_type": "display_data"
    }
   ],
   "source": [
    "labels = ['32', '64', '128', '256(benchmark)', '512']\n",
    "plot(labels, nbody, True)"
   ]
  },
  {
   "cell_type": "markdown",
   "metadata": {},
   "source": [
    "## jacobi Line + Bar"
   ]
  },
  {
   "cell_type": "code",
   "execution_count": 119,
   "metadata": {},
   "outputs": [
    {
     "data": {
      "image/png": "[encoded data removed]",
      "text/plain": [
       "<Figure size 432x288 with 2 Axes>"
      ]
     },
     "metadata": {
      "needs_background": "light"
     },
     "output_type": "display_data"
    }
   ],
   "source": [
    "labels = ['32', '64', '128', '256(benchmark)', '512', '1024']\n",
    "plot(labels, jacobi, True)"
   ]
  },
  {
   "cell_type": "code",
   "execution_count": null,
   "metadata": {},
   "outputs": [],
   "source": []
  }
 ],
 "metadata": {
  "kernelspec": {
   "display_name": "Python 3",
   "language": "python",
   "name": "python3"
  },
  "language_info": {
   "codemirror_mode": {
    "name": "ipython",
    "version": 3
   },
   "file_extension": ".py",
   "mimetype": "text/x-python",
   "name": "python",
   "nbconvert_exporter": "python",
   "pygments_lexer": "ipython3",
   "version": "3.7.1"
  }
 },
 "nbformat": 4,
 "nbformat_minor": 2
}
